{
 "cells": [
  {
   "cell_type": "code",
   "execution_count": 1,
   "metadata": {},
   "outputs": [],
   "source": [
    "using Gumbo\n",
    "using Cascadia\n",
    "using DataFrames\n",
    "using JuMP\n",
    "using HiGHS\n",
    "using CSV\n"
   ]
  },
  {
   "cell_type": "code",
   "execution_count": 7,
   "metadata": {},
   "outputs": [
    {
     "data": {
      "text/html": [
       "<div><div style = \"float: left;\"><span>8733×6 DataFrame</span></div><div style = \"float: right;\"><span style = \"font-style: italic;\">8708 rows omitted</span></div><div style = \"clear: both;\"></div></div><div class = \"data-frame\" style = \"overflow-x: scroll;\"><table class = \"data-frame\" style = \"margin-bottom: 6px;\"><thead><tr class = \"header\"><th class = \"rowNumber\" style = \"font-weight: bold; text-align: right;\">Row</th><th style = \"text-align: left;\">INDEX</th><th style = \"text-align: left;\">LOAD</th><th style = \"text-align: left;\">WIND</th><th style = \"text-align: left;\">SOLAR</th><th style = \"text-align: left;\">RESIDUAL</th><th style = \"text-align: left;\">SOC</th></tr><tr class = \"subheader headerLastRow\"><th class = \"rowNumber\" style = \"font-weight: bold; text-align: right;\"></th><th title = \"Int64\" style = \"text-align: left;\">Int64</th><th title = \"Float64\" style = \"text-align: left;\">Float64</th><th title = \"Float64\" style = \"text-align: left;\">Float64</th><th title = \"Float64\" style = \"text-align: left;\">Float64</th><th title = \"Float64\" style = \"text-align: left;\">Float64</th><th title = \"Float64\" style = \"text-align: left;\">Float64</th></tr></thead><tbody><tr><td class = \"rowNumber\" style = \"font-weight: bold; text-align: right;\">1</td><td style = \"text-align: right;\">1</td><td style = \"text-align: right;\">43.126</td><td style = \"text-align: right;\">73.933</td><td style = \"text-align: right;\">0.0</td><td style = \"text-align: right;\">-30.807</td><td style = \"text-align: right;\">30.807</td></tr><tr><td class = \"rowNumber\" style = \"font-weight: bold; text-align: right;\">2</td><td style = \"text-align: right;\">2</td><td style = \"text-align: right;\">41.347</td><td style = \"text-align: right;\">74.403</td><td style = \"text-align: right;\">0.0</td><td style = \"text-align: right;\">-33.056</td><td style = \"text-align: right;\">63.863</td></tr><tr><td class = \"rowNumber\" style = \"font-weight: bold; text-align: right;\">3</td><td style = \"text-align: right;\">3</td><td style = \"text-align: right;\">39.491</td><td style = \"text-align: right;\">74.846</td><td style = \"text-align: right;\">0.0</td><td style = \"text-align: right;\">-35.355</td><td style = \"text-align: right;\">99.218</td></tr><tr><td class = \"rowNumber\" style = \"font-weight: bold; text-align: right;\">4</td><td style = \"text-align: right;\">4</td><td style = \"text-align: right;\">43.22</td><td style = \"text-align: right;\">74.976</td><td style = \"text-align: right;\">0.0</td><td style = \"text-align: right;\">-31.756</td><td style = \"text-align: right;\">130.974</td></tr><tr><td class = \"rowNumber\" style = \"font-weight: bold; text-align: right;\">5</td><td style = \"text-align: right;\">5</td><td style = \"text-align: right;\">48.505</td><td style = \"text-align: right;\">74.894</td><td style = \"text-align: right;\">0.0</td><td style = \"text-align: right;\">-26.389</td><td style = \"text-align: right;\">157.363</td></tr><tr><td class = \"rowNumber\" style = \"font-weight: bold; text-align: right;\">6</td><td style = \"text-align: right;\">6</td><td style = \"text-align: right;\">50.44</td><td style = \"text-align: right;\">73.747</td><td style = \"text-align: right;\">0.0</td><td style = \"text-align: right;\">-23.307</td><td style = \"text-align: right;\">180.67</td></tr><tr><td class = \"rowNumber\" style = \"font-weight: bold; text-align: right;\">7</td><td style = \"text-align: right;\">7</td><td style = \"text-align: right;\">51.623</td><td style = \"text-align: right;\">72.931</td><td style = \"text-align: right;\">0.499</td><td style = \"text-align: right;\">-21.807</td><td style = \"text-align: right;\">202.477</td></tr><tr><td class = \"rowNumber\" style = \"font-weight: bold; text-align: right;\">8</td><td style = \"text-align: right;\">8</td><td style = \"text-align: right;\">52.399</td><td style = \"text-align: right;\">71.349</td><td style = \"text-align: right;\">3.186</td><td style = \"text-align: right;\">-22.136</td><td style = \"text-align: right;\">224.613</td></tr><tr><td class = \"rowNumber\" style = \"font-weight: bold; text-align: right;\">9</td><td style = \"text-align: right;\">9</td><td style = \"text-align: right;\">53.419</td><td style = \"text-align: right;\">69.958</td><td style = \"text-align: right;\">5.988</td><td style = \"text-align: right;\">-22.527</td><td style = \"text-align: right;\">247.14</td></tr><tr><td class = \"rowNumber\" style = \"font-weight: bold; text-align: right;\">10</td><td style = \"text-align: right;\">10</td><td style = \"text-align: right;\">53.575</td><td style = \"text-align: right;\">69.532</td><td style = \"text-align: right;\">7.687</td><td style = \"text-align: right;\">-23.644</td><td style = \"text-align: right;\">270.784</td></tr><tr><td class = \"rowNumber\" style = \"font-weight: bold; text-align: right;\">11</td><td style = \"text-align: right;\">11</td><td style = \"text-align: right;\">52.755</td><td style = \"text-align: right;\">69.78</td><td style = \"text-align: right;\">7.421</td><td style = \"text-align: right;\">-24.446</td><td style = \"text-align: right;\">295.23</td></tr><tr><td class = \"rowNumber\" style = \"font-weight: bold; text-align: right;\">12</td><td style = \"text-align: right;\">12</td><td style = \"text-align: right;\">52.335</td><td style = \"text-align: right;\">70.242</td><td style = \"text-align: right;\">5.486</td><td style = \"text-align: right;\">-23.393</td><td style = \"text-align: right;\">318.623</td></tr><tr><td class = \"rowNumber\" style = \"font-weight: bold; text-align: right;\">13</td><td style = \"text-align: right;\">13</td><td style = \"text-align: right;\">52.46</td><td style = \"text-align: right;\">69.292</td><td style = \"text-align: right;\">2.824</td><td style = \"text-align: right;\">-19.656</td><td style = \"text-align: right;\">338.279</td></tr><tr><td style = \"text-align: right;\">&vellip;</td><td style = \"text-align: right;\">&vellip;</td><td style = \"text-align: right;\">&vellip;</td><td style = \"text-align: right;\">&vellip;</td><td style = \"text-align: right;\">&vellip;</td><td style = \"text-align: right;\">&vellip;</td><td style = \"text-align: right;\">&vellip;</td></tr><tr><td class = \"rowNumber\" style = \"font-weight: bold; text-align: right;\">8722</td><td style = \"text-align: right;\">8722</td><td style = \"text-align: right;\">49.638</td><td style = \"text-align: right;\">12.062</td><td style = \"text-align: right;\">5.347</td><td style = \"text-align: right;\">32.229</td><td style = \"text-align: right;\">-29445.8</td></tr><tr><td class = \"rowNumber\" style = \"font-weight: bold; text-align: right;\">8723</td><td style = \"text-align: right;\">8723</td><td style = \"text-align: right;\">49.062</td><td style = \"text-align: right;\">11.812</td><td style = \"text-align: right;\">5.585</td><td style = \"text-align: right;\">31.665</td><td style = \"text-align: right;\">-29477.5</td></tr><tr><td class = \"rowNumber\" style = \"font-weight: bold; text-align: right;\">8724</td><td style = \"text-align: right;\">8724</td><td style = \"text-align: right;\">49.0</td><td style = \"text-align: right;\">11.187</td><td style = \"text-align: right;\">4.354</td><td style = \"text-align: right;\">33.459</td><td style = \"text-align: right;\">-29510.9</td></tr><tr><td class = \"rowNumber\" style = \"font-weight: bold; text-align: right;\">8725</td><td style = \"text-align: right;\">8725</td><td style = \"text-align: right;\">49.323</td><td style = \"text-align: right;\">10.451</td><td style = \"text-align: right;\">2.35</td><td style = \"text-align: right;\">36.522</td><td style = \"text-align: right;\">-29547.5</td></tr><tr><td class = \"rowNumber\" style = \"font-weight: bold; text-align: right;\">8726</td><td style = \"text-align: right;\">8726</td><td style = \"text-align: right;\">52.164</td><td style = \"text-align: right;\">9.37</td><td style = \"text-align: right;\">0.575</td><td style = \"text-align: right;\">42.219</td><td style = \"text-align: right;\">-29589.7</td></tr><tr><td class = \"rowNumber\" style = \"font-weight: bold; text-align: right;\">8727</td><td style = \"text-align: right;\">8727</td><td style = \"text-align: right;\">54.755</td><td style = \"text-align: right;\">8.941</td><td style = \"text-align: right;\">0.0</td><td style = \"text-align: right;\">45.814</td><td style = \"text-align: right;\">-29635.5</td></tr><tr><td class = \"rowNumber\" style = \"font-weight: bold; text-align: right;\">8728</td><td style = \"text-align: right;\">8728</td><td style = \"text-align: right;\">55.147</td><td style = \"text-align: right;\">8.284</td><td style = \"text-align: right;\">0.0</td><td style = \"text-align: right;\">46.863</td><td style = \"text-align: right;\">-29682.4</td></tr><tr><td class = \"rowNumber\" style = \"font-weight: bold; text-align: right;\">8729</td><td style = \"text-align: right;\">8729</td><td style = \"text-align: right;\">54.708</td><td style = \"text-align: right;\">8.493</td><td style = \"text-align: right;\">0.0</td><td style = \"text-align: right;\">46.215</td><td style = \"text-align: right;\">-29728.6</td></tr><tr><td class = \"rowNumber\" style = \"font-weight: bold; text-align: right;\">8730</td><td style = \"text-align: right;\">8730</td><td style = \"text-align: right;\">53.154</td><td style = \"text-align: right;\">9.867</td><td style = \"text-align: right;\">0.0</td><td style = \"text-align: right;\">43.287</td><td style = \"text-align: right;\">-29771.9</td></tr><tr><td class = \"rowNumber\" style = \"font-weight: bold; text-align: right;\">8731</td><td style = \"text-align: right;\">8731</td><td style = \"text-align: right;\">51.045</td><td style = \"text-align: right;\">12.176</td><td style = \"text-align: right;\">0.0</td><td style = \"text-align: right;\">38.869</td><td style = \"text-align: right;\">-29810.7</td></tr><tr><td class = \"rowNumber\" style = \"font-weight: bold; text-align: right;\">8732</td><td style = \"text-align: right;\">8732</td><td style = \"text-align: right;\">47.272</td><td style = \"text-align: right;\">15.551</td><td style = \"text-align: right;\">0.0</td><td style = \"text-align: right;\">31.721</td><td style = \"text-align: right;\">-29842.4</td></tr><tr><td class = \"rowNumber\" style = \"font-weight: bold; text-align: right;\">8733</td><td style = \"text-align: right;\">8733</td><td style = \"text-align: right;\">43.136</td><td style = \"text-align: right;\">18.322</td><td style = \"text-align: right;\">0.0</td><td style = \"text-align: right;\">24.814</td><td style = \"text-align: right;\">-29867.3</td></tr></tbody></table></div>"
      ],
      "text/latex": [
       "\\begin{tabular}{r|cccccc}\n",
       "\t& INDEX & LOAD & WIND & SOLAR & RESIDUAL & SOC\\\\\n",
       "\t\\hline\n",
       "\t& Int64 & Float64 & Float64 & Float64 & Float64 & Float64\\\\\n",
       "\t\\hline\n",
       "\t1 & 1 & 43.126 & 73.933 & 0.0 & -30.807 & 30.807 \\\\\n",
       "\t2 & 2 & 41.347 & 74.403 & 0.0 & -33.056 & 63.863 \\\\\n",
       "\t3 & 3 & 39.491 & 74.846 & 0.0 & -35.355 & 99.218 \\\\\n",
       "\t4 & 4 & 43.22 & 74.976 & 0.0 & -31.756 & 130.974 \\\\\n",
       "\t5 & 5 & 48.505 & 74.894 & 0.0 & -26.389 & 157.363 \\\\\n",
       "\t6 & 6 & 50.44 & 73.747 & 0.0 & -23.307 & 180.67 \\\\\n",
       "\t7 & 7 & 51.623 & 72.931 & 0.499 & -21.807 & 202.477 \\\\\n",
       "\t8 & 8 & 52.399 & 71.349 & 3.186 & -22.136 & 224.613 \\\\\n",
       "\t9 & 9 & 53.419 & 69.958 & 5.988 & -22.527 & 247.14 \\\\\n",
       "\t10 & 10 & 53.575 & 69.532 & 7.687 & -23.644 & 270.784 \\\\\n",
       "\t11 & 11 & 52.755 & 69.78 & 7.421 & -24.446 & 295.23 \\\\\n",
       "\t12 & 12 & 52.335 & 70.242 & 5.486 & -23.393 & 318.623 \\\\\n",
       "\t13 & 13 & 52.46 & 69.292 & 2.824 & -19.656 & 338.279 \\\\\n",
       "\t14 & 14 & 56.428 & 68.173 & 0.634 & -12.379 & 350.658 \\\\\n",
       "\t15 & 15 & 59.549 & 67.477 & 0.0 & -7.928 & 358.586 \\\\\n",
       "\t16 & 16 & 61.234 & 67.97 & 0.0 & -6.736 & 365.322 \\\\\n",
       "\t17 & 17 & 59.959 & 68.728 & 0.0 & -8.769 & 374.091 \\\\\n",
       "\t18 & 18 & 58.527 & 69.044 & 0.0 & -10.517 & 384.608 \\\\\n",
       "\t19 & 19 & 55.839 & 69.391 & 0.0 & -13.552 & 398.16 \\\\\n",
       "\t20 & 20 & 51.839 & 71.188 & 0.0 & -19.349 & 417.509 \\\\\n",
       "\t21 & 21 & 48.349 & 71.084 & 0.0 & -22.735 & 440.244 \\\\\n",
       "\t22 & 22 & 48.627 & 70.749 & 0.0 & -22.122 & 462.366 \\\\\n",
       "\t23 & 23 & 47.116 & 70.137 & 0.0 & -23.021 & 485.387 \\\\\n",
       "\t24 & 24 & 44.944 & 70.17 & 0.0 & -25.226 & 510.613 \\\\\n",
       "\t$\\dots$ & $\\dots$ & $\\dots$ & $\\dots$ & $\\dots$ & $\\dots$ & $\\dots$ \\\\\n",
       "\\end{tabular}\n"
      ],
      "text/plain": [
       "\u001b[1m8733×6 DataFrame\u001b[0m\n",
       "\u001b[1m  Row \u001b[0m│\u001b[1m INDEX \u001b[0m\u001b[1m LOAD    \u001b[0m\u001b[1m WIND    \u001b[0m\u001b[1m SOLAR   \u001b[0m\u001b[1m RESIDUAL \u001b[0m\u001b[1m SOC        \u001b[0m\n",
       "      │\u001b[90m Int64 \u001b[0m\u001b[90m Float64 \u001b[0m\u001b[90m Float64 \u001b[0m\u001b[90m Float64 \u001b[0m\u001b[90m Float64  \u001b[0m\u001b[90m Float64    \u001b[0m\n",
       "──────┼────────────────────────────────────────────────────────\n",
       "    1 │     1   43.126   73.933    0.0     -30.807      30.807\n",
       "    2 │     2   41.347   74.403    0.0     -33.056      63.863\n",
       "    3 │     3   39.491   74.846    0.0     -35.355      99.218\n",
       "    4 │     4   43.22    74.976    0.0     -31.756     130.974\n",
       "    5 │     5   48.505   74.894    0.0     -26.389     157.363\n",
       "    6 │     6   50.44    73.747    0.0     -23.307     180.67\n",
       "    7 │     7   51.623   72.931    0.499   -21.807     202.477\n",
       "    8 │     8   52.399   71.349    3.186   -22.136     224.613\n",
       "  ⋮   │   ⋮       ⋮        ⋮        ⋮        ⋮          ⋮\n",
       " 8727 │  8727   54.755    8.941    0.0      45.814  -29635.5\n",
       " 8728 │  8728   55.147    8.284    0.0      46.863  -29682.4\n",
       " 8729 │  8729   54.708    8.493    0.0      46.215  -29728.6\n",
       " 8730 │  8730   53.154    9.867    0.0      43.287  -29771.9\n",
       " 8731 │  8731   51.045   12.176    0.0      38.869  -29810.7\n",
       " 8732 │  8732   47.272   15.551    0.0      31.721  -29842.4\n",
       " 8733 │  8733   43.136   18.322    0.0      24.814  -29867.3\n",
       "\u001b[36m                                              8718 rows omitted\u001b[0m"
      ]
     },
     "metadata": {},
     "output_type": "display_data"
    }
   ],
   "source": [
    "# import timeseries data \n",
    "DataFrame(CSV.File(\"2030_residual_demand_ts.csv\"))"
   ]
  },
  {
   "cell_type": "code",
   "execution_count": null,
   "metadata": {},
   "outputs": [],
   "source": [
    "function ThermalGenerator(\n",
    "    min::Float64,\n",
    "    max::Float64,\n",
    "    fixed_cost::Float64,\n",
    "    variable_cost::Float64,\n",
    ")\n",
    "    return (\n",
    "        min = min,\n",
    "        max = max,\n",
    "        fixed_cost = fixed_cost,\n",
    "        variable_cost = variable_cost,\n",
    "    )\n",
    "end\n",
    "\n",
    "generators = [\n",
    "    ThermalGenerator(0.0, 1000.0, 1000.0, 50.0),\n",
    "]"
   ]
  },
  {
   "cell_type": "code",
   "execution_count": 3,
   "metadata": {},
   "outputs": [
    {
     "data": {
      "text/plain": [
       "A JuMP Model\n",
       "Feasibility problem with:\n",
       "Variables: 0\n",
       "Model mode: AUTOMATIC\n",
       "CachingOptimizer state: EMPTY_OPTIMIZER\n",
       "Solver name: HiGHS"
      ]
     },
     "metadata": {},
     "output_type": "display_data"
    }
   ],
   "source": [
    "model = Model(HiGHS.Optimizer)\n",
    "\n",
    "# list of all thermal generators\n",
    "N = length(generators)\n",
    "@variable(model, generators[i].min <= g[i = 1:N] <= generators[i].max) # power output of thermal generation in a particular timestep\n",
    "\n",
    "# wind power injection\n",
    "@variable(model, 0 <= w <= scenario.wind)\n",
    "\n",
    "\n"
   ]
  }
 ],
 "metadata": {
  "kernelspec": {
   "display_name": "Julia 1.7.3",
   "language": "julia",
   "name": "julia-1.7"
  },
  "language_info": {
   "file_extension": ".jl",
   "mimetype": "application/julia",
   "name": "julia",
   "version": "1.7.3"
  }
 },
 "nbformat": 4,
 "nbformat_minor": 2
}
